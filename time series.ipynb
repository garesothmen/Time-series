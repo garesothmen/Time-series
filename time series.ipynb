{
 "cells": [
  {
   "cell_type": "code",
   "execution_count": 1,
   "id": "7025e5ab",
   "metadata": {},
   "outputs": [],
   "source": [
    "#..\\Ahmed project\\GANN DATASET\\Opt_6B"
   ]
  },
  {
   "cell_type": "code",
   "execution_count": 17,
   "id": "d4c38569",
   "metadata": {},
   "outputs": [
    {
     "name": "stdout",
     "output_type": "stream",
     "text": [
      "Num GPUs Available:  1\n"
     ]
    }
   ],
   "source": [
    "import tensorflow as tf\n",
    "from tensorflow import keras\n",
    "print(\"Num GPUs Available: \", len(tf.config.experimental.list_physical_devices()))"
   ]
  },
  {
   "cell_type": "code",
   "execution_count": 3,
   "id": "3590fa1d",
   "metadata": {},
   "outputs": [],
   "source": [
    "import numpy as np \n",
    "import matplotlib.pyplot as plt\n",
    "import pandas as pd\n",
    "import datetime as dt \n",
    "\n",
    "from sklearn.preprocessing import MinMaxScaler\n",
    "from  tensorflow.keras.models import Sequential\n",
    "from tensorflow.keras.layers import Dense, Dropout ,LSTM"
   ]
  },
  {
   "cell_type": "code",
   "execution_count": 4,
   "id": "f1a60dd6",
   "metadata": {},
   "outputs": [],
   "source": [
    "data=pd.read_csv(\"..\\Ahmed project\\GANN DATASET\\Opt_6B.csv\")"
   ]
  },
  {
   "cell_type": "code",
   "execution_count": 5,
   "id": "7883f494",
   "metadata": {
    "scrolled": true
   },
   "outputs": [
    {
     "data": {
      "text/html": [
       "<div>\n",
       "<style scoped>\n",
       "    .dataframe tbody tr th:only-of-type {\n",
       "        vertical-align: middle;\n",
       "    }\n",
       "\n",
       "    .dataframe tbody tr th {\n",
       "        vertical-align: top;\n",
       "    }\n",
       "\n",
       "    .dataframe thead th {\n",
       "        text-align: right;\n",
       "    }\n",
       "</style>\n",
       "<table border=\"1\" class=\"dataframe\">\n",
       "  <thead>\n",
       "    <tr style=\"text-align: right;\">\n",
       "      <th></th>\n",
       "      <th>Profit</th>\n",
       "      <th>Entry Name</th>\n",
       "      <th>H1</th>\n",
       "      <th>L1</th>\n",
       "      <th>O1</th>\n",
       "      <th>C1</th>\n",
       "      <th>V1</th>\n",
       "      <th>HiLo1</th>\n",
       "      <th>H2</th>\n",
       "      <th>L2</th>\n",
       "      <th>...</th>\n",
       "      <th>I22</th>\n",
       "      <th>I23</th>\n",
       "      <th>I24</th>\n",
       "      <th>I25</th>\n",
       "      <th>I26</th>\n",
       "      <th>I27</th>\n",
       "      <th>I28</th>\n",
       "      <th>I29</th>\n",
       "      <th>I30</th>\n",
       "      <th>I31</th>\n",
       "    </tr>\n",
       "  </thead>\n",
       "  <tbody>\n",
       "    <tr>\n",
       "      <th>0</th>\n",
       "      <td>0</td>\n",
       "      <td>R1 Sell</td>\n",
       "      <td>1.5924</td>\n",
       "      <td>1.5922</td>\n",
       "      <td>1.5924</td>\n",
       "      <td>1.5924</td>\n",
       "      <td>70</td>\n",
       "      <td>1.592250</td>\n",
       "      <td>1.5928</td>\n",
       "      <td>1.5924</td>\n",
       "      <td>...</td>\n",
       "      <td>0</td>\n",
       "      <td>52.018616</td>\n",
       "      <td>-36.363636</td>\n",
       "      <td>1.089286</td>\n",
       "      <td>1</td>\n",
       "      <td>9.940381</td>\n",
       "      <td>0.602561</td>\n",
       "      <td>0</td>\n",
       "      <td>9.146679</td>\n",
       "      <td>Friday</td>\n",
       "    </tr>\n",
       "    <tr>\n",
       "      <th>1</th>\n",
       "      <td>0</td>\n",
       "      <td>R1 Buy</td>\n",
       "      <td>1.5939</td>\n",
       "      <td>1.5923</td>\n",
       "      <td>1.5938</td>\n",
       "      <td>1.5931</td>\n",
       "      <td>1447</td>\n",
       "      <td>1.593950</td>\n",
       "      <td>1.5940</td>\n",
       "      <td>1.5923</td>\n",
       "      <td>...</td>\n",
       "      <td>0</td>\n",
       "      <td>36.124563</td>\n",
       "      <td>-88.405797</td>\n",
       "      <td>0.950000</td>\n",
       "      <td>1</td>\n",
       "      <td>-18.540868</td>\n",
       "      <td>0.017070</td>\n",
       "      <td>0</td>\n",
       "      <td>31.143836</td>\n",
       "      <td>Friday</td>\n",
       "    </tr>\n",
       "    <tr>\n",
       "      <th>2</th>\n",
       "      <td>0</td>\n",
       "      <td>R1 Sell</td>\n",
       "      <td>1.5887</td>\n",
       "      <td>1.5879</td>\n",
       "      <td>1.5883</td>\n",
       "      <td>1.5886</td>\n",
       "      <td>75</td>\n",
       "      <td>1.587925</td>\n",
       "      <td>1.5888</td>\n",
       "      <td>1.5880</td>\n",
       "      <td>...</td>\n",
       "      <td>1</td>\n",
       "      <td>60.676506</td>\n",
       "      <td>-72.972973</td>\n",
       "      <td>1.083969</td>\n",
       "      <td>0</td>\n",
       "      <td>0.802873</td>\n",
       "      <td>0.309199</td>\n",
       "      <td>1</td>\n",
       "      <td>14.563587</td>\n",
       "      <td>Monday</td>\n",
       "    </tr>\n",
       "    <tr>\n",
       "      <th>3</th>\n",
       "      <td>0</td>\n",
       "      <td>R1 Sell</td>\n",
       "      <td>1.5901</td>\n",
       "      <td>1.5887</td>\n",
       "      <td>1.5895</td>\n",
       "      <td>1.5891</td>\n",
       "      <td>865</td>\n",
       "      <td>1.588975</td>\n",
       "      <td>1.5906</td>\n",
       "      <td>1.5894</td>\n",
       "      <td>...</td>\n",
       "      <td>1</td>\n",
       "      <td>54.949556</td>\n",
       "      <td>-65.517241</td>\n",
       "      <td>0.993103</td>\n",
       "      <td>0</td>\n",
       "      <td>-1.106353</td>\n",
       "      <td>0.129379</td>\n",
       "      <td>1</td>\n",
       "      <td>19.139527</td>\n",
       "      <td>Monday</td>\n",
       "    </tr>\n",
       "    <tr>\n",
       "      <th>4</th>\n",
       "      <td>0</td>\n",
       "      <td>R1 Buy</td>\n",
       "      <td>1.5899</td>\n",
       "      <td>1.5888</td>\n",
       "      <td>1.5897</td>\n",
       "      <td>1.5891</td>\n",
       "      <td>341</td>\n",
       "      <td>1.590200</td>\n",
       "      <td>1.5899</td>\n",
       "      <td>1.5889</td>\n",
       "      <td>...</td>\n",
       "      <td>0</td>\n",
       "      <td>50.414254</td>\n",
       "      <td>-78.260870</td>\n",
       "      <td>1.012422</td>\n",
       "      <td>1</td>\n",
       "      <td>-7.843250</td>\n",
       "      <td>0.025864</td>\n",
       "      <td>0</td>\n",
       "      <td>16.329333</td>\n",
       "      <td>Monday</td>\n",
       "    </tr>\n",
       "    <tr>\n",
       "      <th>...</th>\n",
       "      <td>...</td>\n",
       "      <td>...</td>\n",
       "      <td>...</td>\n",
       "      <td>...</td>\n",
       "      <td>...</td>\n",
       "      <td>...</td>\n",
       "      <td>...</td>\n",
       "      <td>...</td>\n",
       "      <td>...</td>\n",
       "      <td>...</td>\n",
       "      <td>...</td>\n",
       "      <td>...</td>\n",
       "      <td>...</td>\n",
       "      <td>...</td>\n",
       "      <td>...</td>\n",
       "      <td>...</td>\n",
       "      <td>...</td>\n",
       "      <td>...</td>\n",
       "      <td>...</td>\n",
       "      <td>...</td>\n",
       "      <td>...</td>\n",
       "    </tr>\n",
       "    <tr>\n",
       "      <th>5273</th>\n",
       "      <td>1</td>\n",
       "      <td>R1 Sell</td>\n",
       "      <td>1.2505</td>\n",
       "      <td>1.2471</td>\n",
       "      <td>1.2486</td>\n",
       "      <td>1.2472</td>\n",
       "      <td>916</td>\n",
       "      <td>1.247050</td>\n",
       "      <td>1.2499</td>\n",
       "      <td>1.2480</td>\n",
       "      <td>...</td>\n",
       "      <td>0</td>\n",
       "      <td>58.905807</td>\n",
       "      <td>-49.253731</td>\n",
       "      <td>1.022727</td>\n",
       "      <td>1</td>\n",
       "      <td>7.167600</td>\n",
       "      <td>0.637330</td>\n",
       "      <td>0</td>\n",
       "      <td>19.477545</td>\n",
       "      <td>Monday</td>\n",
       "    </tr>\n",
       "    <tr>\n",
       "      <th>5274</th>\n",
       "      <td>0</td>\n",
       "      <td>R1 Sell</td>\n",
       "      <td>1.2493</td>\n",
       "      <td>1.2472</td>\n",
       "      <td>1.2488</td>\n",
       "      <td>1.2482</td>\n",
       "      <td>1368</td>\n",
       "      <td>1.246925</td>\n",
       "      <td>1.2498</td>\n",
       "      <td>1.2478</td>\n",
       "      <td>...</td>\n",
       "      <td>0</td>\n",
       "      <td>46.799983</td>\n",
       "      <td>-54.285714</td>\n",
       "      <td>0.928934</td>\n",
       "      <td>1</td>\n",
       "      <td>8.798321</td>\n",
       "      <td>0.620714</td>\n",
       "      <td>0</td>\n",
       "      <td>21.288598</td>\n",
       "      <td>Monday</td>\n",
       "    </tr>\n",
       "    <tr>\n",
       "      <th>5275</th>\n",
       "      <td>0</td>\n",
       "      <td>R1 Sell</td>\n",
       "      <td>1.2469</td>\n",
       "      <td>1.2451</td>\n",
       "      <td>1.2458</td>\n",
       "      <td>1.2454</td>\n",
       "      <td>232</td>\n",
       "      <td>1.244200</td>\n",
       "      <td>1.2461</td>\n",
       "      <td>1.2448</td>\n",
       "      <td>...</td>\n",
       "      <td>1</td>\n",
       "      <td>65.696362</td>\n",
       "      <td>-62.195122</td>\n",
       "      <td>0.908805</td>\n",
       "      <td>1</td>\n",
       "      <td>-8.793473</td>\n",
       "      <td>0.408765</td>\n",
       "      <td>1</td>\n",
       "      <td>19.946562</td>\n",
       "      <td>Tuesday</td>\n",
       "    </tr>\n",
       "    <tr>\n",
       "      <th>5276</th>\n",
       "      <td>0</td>\n",
       "      <td>R1 Sell</td>\n",
       "      <td>1.2425</td>\n",
       "      <td>1.2414</td>\n",
       "      <td>1.2422</td>\n",
       "      <td>1.2420</td>\n",
       "      <td>96</td>\n",
       "      <td>1.241175</td>\n",
       "      <td>1.2420</td>\n",
       "      <td>1.2407</td>\n",
       "      <td>...</td>\n",
       "      <td>0</td>\n",
       "      <td>56.405265</td>\n",
       "      <td>-26.785714</td>\n",
       "      <td>1.424107</td>\n",
       "      <td>1</td>\n",
       "      <td>-3.079960</td>\n",
       "      <td>1.000000</td>\n",
       "      <td>0</td>\n",
       "      <td>31.587894</td>\n",
       "      <td>Tuesday</td>\n",
       "    </tr>\n",
       "    <tr>\n",
       "      <th>5277</th>\n",
       "      <td>0</td>\n",
       "      <td>R1 Sell</td>\n",
       "      <td>1.2439</td>\n",
       "      <td>1.2410</td>\n",
       "      <td>1.2438</td>\n",
       "      <td>1.2416</td>\n",
       "      <td>637</td>\n",
       "      <td>1.240875</td>\n",
       "      <td>1.2441</td>\n",
       "      <td>1.2415</td>\n",
       "      <td>...</td>\n",
       "      <td>0</td>\n",
       "      <td>53.970316</td>\n",
       "      <td>-65.789474</td>\n",
       "      <td>1.009479</td>\n",
       "      <td>0</td>\n",
       "      <td>5.426406</td>\n",
       "      <td>0.428697</td>\n",
       "      <td>0</td>\n",
       "      <td>34.288642</td>\n",
       "      <td>Tuesday</td>\n",
       "    </tr>\n",
       "  </tbody>\n",
       "</table>\n",
       "<p>5278 rows × 51 columns</p>\n",
       "</div>"
      ],
      "text/plain": [
       "      Profit Entry Name      H1      L1      O1      C1    V1     HiLo1  \\\n",
       "0          0    R1 Sell  1.5924  1.5922  1.5924  1.5924    70  1.592250   \n",
       "1          0     R1 Buy  1.5939  1.5923  1.5938  1.5931  1447  1.593950   \n",
       "2          0    R1 Sell  1.5887  1.5879  1.5883  1.5886    75  1.587925   \n",
       "3          0    R1 Sell  1.5901  1.5887  1.5895  1.5891   865  1.588975   \n",
       "4          0     R1 Buy  1.5899  1.5888  1.5897  1.5891   341  1.590200   \n",
       "...      ...        ...     ...     ...     ...     ...   ...       ...   \n",
       "5273       1    R1 Sell  1.2505  1.2471  1.2486  1.2472   916  1.247050   \n",
       "5274       0    R1 Sell  1.2493  1.2472  1.2488  1.2482  1368  1.246925   \n",
       "5275       0    R1 Sell  1.2469  1.2451  1.2458  1.2454   232  1.244200   \n",
       "5276       0    R1 Sell  1.2425  1.2414  1.2422  1.2420    96  1.241175   \n",
       "5277       0    R1 Sell  1.2439  1.2410  1.2438  1.2416   637  1.240875   \n",
       "\n",
       "          H2      L2  ...  I22        I23        I24       I25  I26  \\\n",
       "0     1.5928  1.5924  ...    0  52.018616 -36.363636  1.089286    1   \n",
       "1     1.5940  1.5923  ...    0  36.124563 -88.405797  0.950000    1   \n",
       "2     1.5888  1.5880  ...    1  60.676506 -72.972973  1.083969    0   \n",
       "3     1.5906  1.5894  ...    1  54.949556 -65.517241  0.993103    0   \n",
       "4     1.5899  1.5889  ...    0  50.414254 -78.260870  1.012422    1   \n",
       "...      ...     ...  ...  ...        ...        ...       ...  ...   \n",
       "5273  1.2499  1.2480  ...    0  58.905807 -49.253731  1.022727    1   \n",
       "5274  1.2498  1.2478  ...    0  46.799983 -54.285714  0.928934    1   \n",
       "5275  1.2461  1.2448  ...    1  65.696362 -62.195122  0.908805    1   \n",
       "5276  1.2420  1.2407  ...    0  56.405265 -26.785714  1.424107    1   \n",
       "5277  1.2441  1.2415  ...    0  53.970316 -65.789474  1.009479    0   \n",
       "\n",
       "            I27       I28  I29        I30      I31  \n",
       "0      9.940381  0.602561    0   9.146679   Friday  \n",
       "1    -18.540868  0.017070    0  31.143836   Friday  \n",
       "2      0.802873  0.309199    1  14.563587   Monday  \n",
       "3     -1.106353  0.129379    1  19.139527   Monday  \n",
       "4     -7.843250  0.025864    0  16.329333   Monday  \n",
       "...         ...       ...  ...        ...      ...  \n",
       "5273   7.167600  0.637330    0  19.477545   Monday  \n",
       "5274   8.798321  0.620714    0  21.288598   Monday  \n",
       "5275  -8.793473  0.408765    1  19.946562  Tuesday  \n",
       "5276  -3.079960  1.000000    0  31.587894  Tuesday  \n",
       "5277   5.426406  0.428697    0  34.288642  Tuesday  \n",
       "\n",
       "[5278 rows x 51 columns]"
      ]
     },
     "execution_count": 5,
     "metadata": {},
     "output_type": "execute_result"
    }
   ],
   "source": [
    "data"
   ]
  },
  {
   "cell_type": "code",
   "execution_count": 6,
   "id": "39389dac",
   "metadata": {},
   "outputs": [],
   "source": [
    "scaler=MinMaxScaler(feature_range=(0, 1))\n",
    "scaled_data=scaler.fit_transform(data[\"C1\"].values.reshape(-1,1))"
   ]
  },
  {
   "cell_type": "code",
   "execution_count": 7,
   "id": "24271635",
   "metadata": {},
   "outputs": [
    {
     "data": {
      "text/plain": [
       "(5278, 1)"
      ]
     },
     "execution_count": 7,
     "metadata": {},
     "output_type": "execute_result"
    }
   ],
   "source": [
    "scaled_data.shape"
   ]
  },
  {
   "cell_type": "code",
   "execution_count": 8,
   "id": "9508b759",
   "metadata": {},
   "outputs": [],
   "source": [
    "prediction_days=45"
   ]
  },
  {
   "cell_type": "code",
   "execution_count": 9,
   "id": "06eeeda1",
   "metadata": {},
   "outputs": [],
   "source": [
    "x_train=[]\n",
    "y_train=[]"
   ]
  },
  {
   "cell_type": "code",
   "execution_count": 10,
   "id": "25049280",
   "metadata": {},
   "outputs": [],
   "source": [
    "for x in range(prediction_days,len(scaled_data)-720):\n",
    "    x_train.append(scaled_data[x-prediction_days:x,0])\n",
    "    y_train.append(scaled_data[x,0])"
   ]
  },
  {
   "cell_type": "code",
   "execution_count": 11,
   "id": "0c6d7ebe",
   "metadata": {},
   "outputs": [],
   "source": [
    "x_train,y_train=np.array(x_train),np.array(y_train)\n",
    "x_train=np.reshape(x_train ,(x_train.shape[0], x_train.shape[1], 1))"
   ]
  },
  {
   "cell_type": "code",
   "execution_count": 61,
   "id": "38bd82ab",
   "metadata": {},
   "outputs": [
    {
     "name": "stdout",
     "output_type": "stream",
     "text": [
      "Epoch 1/25\n",
      "142/142 [==============================] - 8s 30ms/step - loss: 0.0194\n",
      "Epoch 2/25\n",
      "142/142 [==============================] - 4s 30ms/step - loss: 0.0039\n",
      "Epoch 3/25\n",
      "142/142 [==============================] - 4s 31ms/step - loss: 0.0035\n",
      "Epoch 4/25\n",
      "142/142 [==============================] - 5s 33ms/step - loss: 0.0032\n",
      "Epoch 5/25\n",
      "142/142 [==============================] - 5s 33ms/step - loss: 0.0031\n",
      "Epoch 6/25\n",
      "142/142 [==============================] - 5s 33ms/step - loss: 0.0030\n",
      "Epoch 7/25\n",
      "142/142 [==============================] - 5s 34ms/step - loss: 0.0025\n",
      "Epoch 8/25\n",
      "142/142 [==============================] - 5s 38ms/step - loss: 0.0028\n",
      "Epoch 9/25\n",
      "142/142 [==============================] - 5s 36ms/step - loss: 0.0023\n",
      "Epoch 10/25\n",
      "142/142 [==============================] - 5s 36ms/step - loss: 0.0024\n",
      "Epoch 11/25\n",
      "142/142 [==============================] - 5s 36ms/step - loss: 0.0022\n",
      "Epoch 12/25\n",
      "142/142 [==============================] - 5s 37ms/step - loss: 0.0021\n",
      "Epoch 13/25\n",
      "142/142 [==============================] - 6s 42ms/step - loss: 0.0022\n",
      "Epoch 14/25\n",
      "142/142 [==============================] - 6s 42ms/step - loss: 0.0018\n",
      "Epoch 15/25\n",
      "142/142 [==============================] - 5s 38ms/step - loss: 0.0020\n",
      "Epoch 16/25\n",
      "142/142 [==============================] - 5s 35ms/step - loss: 0.0017\n",
      "Epoch 17/25\n",
      "142/142 [==============================] - 5s 35ms/step - loss: 0.0016\n",
      "Epoch 18/25\n",
      "142/142 [==============================] - 6s 43ms/step - loss: 0.0016: 1s\n",
      "Epoch 19/25\n",
      "142/142 [==============================] - 5s 37ms/step - loss: 0.0015\n",
      "Epoch 20/25\n",
      "142/142 [==============================] - 5s 34ms/step - loss: 0.0014\n",
      "Epoch 21/25\n",
      "142/142 [==============================] - 5s 35ms/step - loss: 0.0013\n",
      "Epoch 22/25\n",
      "142/142 [==============================] - 5s 34ms/step - loss: 0.0014\n",
      "Epoch 23/25\n",
      "142/142 [==============================] - 5s 34ms/step - loss: 0.0012\n",
      "Epoch 24/25\n",
      "142/142 [==============================] - 5s 33ms/step - loss: 0.0012\n",
      "Epoch 25/25\n",
      "142/142 [==============================] - 5s 33ms/step - loss: 0.0012\n"
     ]
    },
    {
     "data": {
      "text/plain": [
       "<keras.callbacks.History at 0x2380027b6a0>"
      ]
     },
     "execution_count": 61,
     "metadata": {},
     "output_type": "execute_result"
    }
   ],
   "source": [
    "model=Sequential()\n",
    "\n",
    "model.add(LSTM(units=50,return_sequences=True,input_shape=(x_train.shape[1],1)))\n",
    "model.add(Dropout(0.2))\n",
    "model.add(LSTM(units=50,return_sequences=True))\n",
    "model.add(Dropout(0.2))\n",
    "model.add(LSTM(units=50))\n",
    "model.add(Dropout(0.2))\n",
    "model.add(Dense(units=1))\n",
    "\n",
    "model.compile(optimizer='adam',loss='mean_squared_error')\n",
    "model.fit(x_train,y_train,epochs=25,batch_size=32)\n"
   ]
  },
  {
   "cell_type": "code",
   "execution_count": 62,
   "id": "b16b9c89",
   "metadata": {},
   "outputs": [],
   "source": [
    "x_test=[]\n",
    "for x in range(len(scaled_data)-720,len(scaled_data)-45):\n",
    "    x_test.append(scaled_data[x-prediction_days:x,0])\n",
    "x_test=np.array(x_test)"
   ]
  },
  {
   "cell_type": "code",
   "execution_count": 63,
   "id": "61f62a75",
   "metadata": {},
   "outputs": [],
   "source": [
    "actual_prices=scaled_data[len(scaled_data)-720+45:,0]"
   ]
  },
  {
   "cell_type": "code",
   "execution_count": 64,
   "id": "e5afb8d4",
   "metadata": {},
   "outputs": [
    {
     "data": {
      "text/plain": [
       "(675,)"
      ]
     },
     "execution_count": 64,
     "metadata": {},
     "output_type": "execute_result"
    }
   ],
   "source": [
    "actual_prices.shape"
   ]
  },
  {
   "cell_type": "code",
   "execution_count": 65,
   "id": "71fd2972",
   "metadata": {},
   "outputs": [
    {
     "data": {
      "text/plain": [
       "(675, 45)"
      ]
     },
     "execution_count": 65,
     "metadata": {},
     "output_type": "execute_result"
    }
   ],
   "source": [
    "x_test.shape"
   ]
  },
  {
   "cell_type": "code",
   "execution_count": 66,
   "id": "8a00313b",
   "metadata": {},
   "outputs": [],
   "source": [
    "predicted_prices=model.predict(x_test)\n",
    "#predicted_prices=scaler.inverse_transform(predicted_prices)"
   ]
  },
  {
   "cell_type": "code",
   "execution_count": 67,
   "id": "48277c89",
   "metadata": {},
   "outputs": [
    {
     "data": {
      "image/png": "[encoded data removed]",
      "text/plain": [
       "<Figure size 432x288 with 1 Axes>"
      ]
     },
     "metadata": {
      "needs_background": "light"
     },
     "output_type": "display_data"
    }
   ],
   "source": [
    "plt.plot(actual_prices,color=\"red\",label=\"actual\")\n",
    "plt.plot(predicted_prices,color=\"green\",label=\"predicted\")\n",
    "plt.legend()\n",
    "plt.show()"
   ]
  },
  {
   "cell_type": "code",
   "execution_count": null,
   "id": "cc6aa18e",
   "metadata": {},
   "outputs": [],
   "source": []
  }
 ],
 "metadata": {
  "kernelspec": {
   "display_name": "Python 3",
   "language": "python",
   "name": "python3"
  },
  "language_info": {
   "codemirror_mode": {
    "name": "ipython",
    "version": 3
   },
   "file_extension": ".py",
   "mimetype": "text/x-python",
   "name": "python",
   "nbconvert_exporter": "python",
   "pygments_lexer": "ipython3",
   "version": "3.8.8"
  }
 },
 "nbformat": 4,
 "nbformat_minor": 5
}
